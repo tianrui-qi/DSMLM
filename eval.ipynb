{
 "cells": [
  {
   "cell_type": "code",
   "execution_count": 1,
   "metadata": {},
   "outputs": [],
   "source": [
    "import torch\n",
    "from tifffile import imsave\n",
    "\n",
    "from config import Eval\n",
    "from model import UNet2D\n",
    "from data import getDataLoader\n",
    "\n",
    "# config\n",
    "config = Eval()\n",
    "device = torch.device('cuda')\n",
    "\n",
    "# model\n",
    "net = UNet2D(config).to(device)  # config not important since load\n",
    "net.load_state_dict(torch.load(\n",
    "    \"{}.pt\".format(config.cpt_load_path), \n",
    "    map_location=device)['net']\n",
    ")\n",
    "net.eval().half()\n",
    "\n",
    "# data\n",
    "dataloader = getDataLoader(config)[0]"
   ]
  },
  {
   "cell_type": "code",
   "execution_count": 31,
   "metadata": {},
   "outputs": [],
   "source": [
    "with torch.no_grad():\n",
    "    outputs = None\n",
    "    frame = None\n",
    "    for i, (frames, _) in enumerate(dataloader):\n",
    "        # store subframe to a [100, *output.shape] tensor, i.e., outputs\n",
    "        output = net(frames.half().to(device))\n",
    "        if outputs == None: outputs = output\n",
    "        else: outputs = torch.cat((outputs, output))\n",
    "\n",
    "        # combine 100 subframe, i.e., outputs, to a frame\n",
    "        if len(outputs) != 100: continue\n",
    "        if frame == None: \n",
    "            frame  = dataloader.dataset.combineFrame(outputs) # type: ignore\n",
    "        else:\n",
    "            frame += dataloader.dataset.combineFrame(outputs) # type: ignore\n",
    "        outputs = None\n",
    "frame /= torch.max(frame)\n",
    "imsave('data/eval/30.tif', (frame.cpu().detach() * 255).to(torch.uint8).numpy())"
   ]
  }
 ],
 "metadata": {
  "kernelspec": {
   "display_name": "DL-SMLFM",
   "language": "python",
   "name": "python3"
  },
  "language_info": {
   "codemirror_mode": {
    "name": "ipython",
    "version": 3
   },
   "file_extension": ".py",
   "mimetype": "text/x-python",
   "name": "python",
   "nbconvert_exporter": "python",
   "pygments_lexer": "ipython3",
   "version": "3.11.3"
  },
  "orig_nbformat": 4
 },
 "nbformat": 4,
 "nbformat_minor": 2
}
