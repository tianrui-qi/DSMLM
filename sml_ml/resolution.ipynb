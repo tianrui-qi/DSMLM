{
 "cells": [
  {
   "cell_type": "code",
   "execution_count": 1,
   "metadata": {},
   "outputs": [],
   "source": [
    "import numpy as np\n",
    "from sklearn.mixture import GaussianMixture\n",
    "\n",
    "import scipy.io\n",
    "import os\n",
    "import tqdm\n",
    "from typing import List\n",
    "\n",
    "\n",
    "def get_cluster_mlist(\n",
    "    clsuter_list: np.ndarray, wide: int, mlists_load_fold: str\n",
    ") -> List[np.ndarray]:\n",
    "    # file name list\n",
    "    mlists_list = os.listdir(mlists_load_fold)\n",
    "\n",
    "    # use to store final result\n",
    "    cluster_mlist = [[] for _ in range(len(clsuter_list))]\n",
    "\n",
    "    # go through all mlists and get the mlist for each cluster\n",
    "    for index in tqdm.tqdm(range(45000), unit=\"mlist\"):\n",
    "        # read a mlist out of 45000 mlists\n",
    "        _, mlist = scipy.io.loadmat(\n",
    "            os.path.join(mlists_load_fold, mlists_list[index])\n",
    "        ).popitem()\n",
    "        # (H W D), index start from 1 -> (D H W), index start from 0\n",
    "        mlist = mlist[:, [2, 0, 1]] - 1\n",
    "        # [64 512 512] -> [32 512 512]\n",
    "        mlist[:, 0] = (mlist[:, 0] + 0.5) / 2 - 0.5\n",
    "\n",
    "        for c in range(len(clsuter_list)):\n",
    "            # find the submlist that match the position with current cluster\n",
    "            position = clsuter_list[c]  # (D H W)\n",
    "            submlist = mlist\n",
    "            submlist = submlist[submlist[:, 0] >= position[0] - wide]\n",
    "            submlist = submlist[submlist[:, 0] <= position[0] + wide]\n",
    "            submlist = submlist[submlist[:, 1] >= position[1] - wide]\n",
    "            submlist = submlist[submlist[:, 1] <= position[1] + wide]\n",
    "            submlist = submlist[submlist[:, 2] >= position[2] - wide]\n",
    "            submlist = submlist[submlist[:, 2] <= position[2] + wide]\n",
    "\n",
    "            # add the molecular in submlist to cluster_mlist\n",
    "            for i in range(len(submlist)): cluster_mlist[c].append(submlist[i])\n",
    "\n",
    "    # mena center each cluster's mlist\n",
    "    for k in range(len(cluster_mlist)):\n",
    "        cluster_mlist[k] = np.array(cluster_mlist[k])\n",
    "        if cluster_mlist[k].shape[0] == 0: continue\n",
    "\n",
    "        gmm = GaussianMixture(n_components=1)\n",
    "        gmm.fit(cluster_mlist[k])\n",
    "        cluster_mlist[k] -= gmm.means_[0]\n",
    "\n",
    "    return cluster_mlist  # [K, num of mol in each cluster]"
   ]
  },
  {
   "cell_type": "code",
   "execution_count": 6,
   "metadata": {},
   "outputs": [
    {
     "name": "stderr",
     "output_type": "stream",
     "text": [
      "  0%|          | 0/45000 [00:00<?, ?mlist/s]"
     ]
    },
    {
     "name": "stderr",
     "output_type": "stream",
     "text": [
      "100%|██████████| 45000/45000 [00:22<00:00, 1963.25mlist/s]\n",
      "c:\\Users\\tianrui\\miniconda3\\envs\\SMLFM\\Lib\\site-packages\\sklearn\\cluster\\_kmeans.py:1382: UserWarning: KMeans is known to have a memory leak on Windows with MKL, when there are less chunks than available threads. You can avoid it by setting the environment variable OMP_NUM_THREADS=1.\n",
      "  warnings.warn(\n",
      "c:\\Users\\tianrui\\miniconda3\\envs\\SMLFM\\Lib\\site-packages\\sklearn\\cluster\\_kmeans.py:1382: UserWarning: KMeans is known to have a memory leak on Windows with MKL, when there are less chunks than available threads. You can avoid it by setting the environment variable OMP_NUM_THREADS=1.\n",
      "  warnings.warn(\n",
      "c:\\Users\\tianrui\\miniconda3\\envs\\SMLFM\\Lib\\site-packages\\sklearn\\cluster\\_kmeans.py:1382: UserWarning: KMeans is known to have a memory leak on Windows with MKL, when there are less chunks than available threads. You can avoid it by setting the environment variable OMP_NUM_THREADS=1.\n",
      "  warnings.warn(\n",
      "c:\\Users\\tianrui\\miniconda3\\envs\\SMLFM\\Lib\\site-packages\\sklearn\\cluster\\_kmeans.py:1382: UserWarning: KMeans is known to have a memory leak on Windows with MKL, when there are less chunks than available threads. You can avoid it by setting the environment variable OMP_NUM_THREADS=1.\n",
      "  warnings.warn(\n",
      "c:\\Users\\tianrui\\miniconda3\\envs\\SMLFM\\Lib\\site-packages\\sklearn\\cluster\\_kmeans.py:1382: UserWarning: KMeans is known to have a memory leak on Windows with MKL, when there are less chunks than available threads. You can avoid it by setting the environment variable OMP_NUM_THREADS=1.\n",
      "  warnings.warn(\n",
      "c:\\Users\\tianrui\\miniconda3\\envs\\SMLFM\\Lib\\site-packages\\sklearn\\cluster\\_kmeans.py:1382: UserWarning: KMeans is known to have a memory leak on Windows with MKL, when there are less chunks than available threads. You can avoid it by setting the environment variable OMP_NUM_THREADS=1.\n",
      "  warnings.warn(\n",
      "c:\\Users\\tianrui\\miniconda3\\envs\\SMLFM\\Lib\\site-packages\\sklearn\\cluster\\_kmeans.py:1382: UserWarning: KMeans is known to have a memory leak on Windows with MKL, when there are less chunks than available threads. You can avoid it by setting the environment variable OMP_NUM_THREADS=1.\n",
      "  warnings.warn(\n",
      "c:\\Users\\tianrui\\miniconda3\\envs\\SMLFM\\Lib\\site-packages\\sklearn\\cluster\\_kmeans.py:1382: UserWarning: KMeans is known to have a memory leak on Windows with MKL, when there are less chunks than available threads. You can avoid it by setting the environment variable OMP_NUM_THREADS=1.\n",
      "  warnings.warn(\n",
      "c:\\Users\\tianrui\\miniconda3\\envs\\SMLFM\\Lib\\site-packages\\sklearn\\cluster\\_kmeans.py:1382: UserWarning: KMeans is known to have a memory leak on Windows with MKL, when there are less chunks than available threads. You can avoid it by setting the environment variable OMP_NUM_THREADS=1.\n",
      "  warnings.warn(\n"
     ]
    },
    {
     "name": "stdout",
     "output_type": "stream",
     "text": [
      "(65, 3)\n",
      "(116, 3)\n",
      "(79, 3)\n",
      "(44, 3)\n",
      "(71, 3)\n",
      "(68, 3)\n",
      "(28, 3)\n",
      "(132, 3)\n",
      "(68, 3)\n",
      "(21, 3)\n",
      "(55, 3)\n",
      "(55, 3)\n",
      "[[[ 0.06378605  0.00073886 -0.00064982]\n",
      "  [ 0.00073886  0.04276527 -0.00056021]\n",
      "  [-0.00064982 -0.00056021  0.05327207]]]\n",
      "[[-1.28021727e-15  1.21199808e-14 -1.54689229e-14]]\n"
     ]
    },
    {
     "name": "stderr",
     "output_type": "stream",
     "text": [
      "c:\\Users\\tianrui\\miniconda3\\envs\\SMLFM\\Lib\\site-packages\\sklearn\\cluster\\_kmeans.py:1382: UserWarning: KMeans is known to have a memory leak on Windows with MKL, when there are less chunks than available threads. You can avoid it by setting the environment variable OMP_NUM_THREADS=1.\n",
      "  warnings.warn(\n",
      "c:\\Users\\tianrui\\miniconda3\\envs\\SMLFM\\Lib\\site-packages\\sklearn\\cluster\\_kmeans.py:1382: UserWarning: KMeans is known to have a memory leak on Windows with MKL, when there are less chunks than available threads. You can avoid it by setting the environment variable OMP_NUM_THREADS=1.\n",
      "  warnings.warn(\n",
      "c:\\Users\\tianrui\\miniconda3\\envs\\SMLFM\\Lib\\site-packages\\sklearn\\cluster\\_kmeans.py:1382: UserWarning: KMeans is known to have a memory leak on Windows with MKL, when there are less chunks than available threads. You can avoid it by setting the environment variable OMP_NUM_THREADS=1.\n",
      "  warnings.warn(\n",
      "c:\\Users\\tianrui\\miniconda3\\envs\\SMLFM\\Lib\\site-packages\\sklearn\\cluster\\_kmeans.py:1382: UserWarning: KMeans is known to have a memory leak on Windows with MKL, when there are less chunks than available threads. You can avoid it by setting the environment variable OMP_NUM_THREADS=4.\n",
      "  warnings.warn(\n"
     ]
    }
   ],
   "source": [
    "# load cluster position\n",
    "cluster_list = np.array([  # (D H W), index start from 0\n",
    "    [85, 1603, 523 ],\n",
    "    [88, 1437, 512 ],\n",
    "    [86, 1447, 493 ],\n",
    "    [51, 1546, 685 ],\n",
    "    [53, 1576, 867 ],\n",
    "    [57, 1768, 1110],\n",
    "    [58, 1686, 1214],\n",
    "    [61, 670 , 482 ],\n",
    "    [59, 574 , 607 ],\n",
    "    [62, 531 , 1239],\n",
    "    [62, 712 , 1416],\n",
    "    [61, 1059, 1671]\n",
    "])\n",
    "# since position in cluster_list find in super resolution image\n",
    "cluster_list = (cluster_list + 0.5) / 4 - 0.5\n",
    "\n",
    "# go through all mlists and get the mlist (mean centered) for each cluster\n",
    "cluster_mlist = get_cluster_mlist(cluster_list, 0.5, \"D:/mlists\")\n",
    "\n",
    "# combine all cluster's mlist and fit a gmm\n",
    "all_mlist = []\n",
    "for k in range(len(cluster_mlist)): all_mlist.extend(cluster_mlist[k])\n",
    "gmm = GaussianMixture(n_components=1)\n",
    "gmm.fit(all_mlist)\n",
    "\n",
    "# information\n",
    "print(gmm.covariances_)\n",
    "print(gmm.means_)"
   ]
  }
 ],
 "metadata": {
  "kernelspec": {
   "display_name": "base",
   "language": "python",
   "name": "python3"
  },
  "language_info": {
   "codemirror_mode": {
    "name": "ipython",
    "version": 3
   },
   "file_extension": ".py",
   "mimetype": "text/x-python",
   "name": "python",
   "nbconvert_exporter": "python",
   "pygments_lexer": "ipython3",
   "version": "3.11.3"
  },
  "orig_nbformat": 4
 },
 "nbformat": 4,
 "nbformat_minor": 2
}
