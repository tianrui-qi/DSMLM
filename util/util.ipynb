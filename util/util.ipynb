{
 "cells": [
  {
   "cell_type": "markdown",
   "metadata": {},
   "source": [
    "## For concat threshold eval result, d_06"
   ]
  },
  {
   "cell_type": "code",
   "execution_count": null,
   "metadata": {},
   "outputs": [],
   "source": [
    "for s in [\n",
    "    \"000\",\n",
    "    \"010\", \"020\", \"030\", \"040\", \"050\", \n",
    "    \"060\", \"070\", \"080\", \"090\", \"100\",\n",
    "]:\n",
    "    # T Z Y X\n",
    "    T = []\n",
    "    for t in [\n",
    "        1, 2, 4, 8, 16, 32, 64, 128, 256, 512, \n",
    "        1024, 2048, 4096, 8192, 16384, 32768, 45000\n",
    "    ]: T.append(tifffile.imread(\n",
    "        \"data/d_06/{}/outputs_{}.tif\".format(s, t)\n",
    "    ))\n",
    "\n",
    "    # Z T Y X\n",
    "    T = np.array(T).transpose(1, 0, 2, 3)\n",
    "\n",
    "    T[T > 10.0] = 10.0\n",
    "\n",
    "    tifffile.imwrite(\n",
    "        \"C:/Users/tianrui/Desktop/{}.tif\".format(s), \n",
    "        np.array(T), imagej=True,\n",
    "        metadata={\n",
    "            \"unit\": \"nm\",\n",
    "            \"axes\": \"TZYX\",\n",
    "        }\n",
    "    )"
   ]
  },
  {
   "cell_type": "code",
   "execution_count": null,
   "metadata": {},
   "outputs": [],
   "source": [
    "# Z T Y X\n",
    "Z = []\n",
    "for s in [\n",
    "    \"000\",\n",
    "    \"010\", \"020\", \"030\", \"040\", \"050\", \n",
    "    \"060\", \"070\", \"080\", \"090\", \"100\",\n",
    "]: Z.append(tifffile.imread(\n",
    "    \"C:/Users/tianrui/Desktop/{}_h.tif\".format(s)\n",
    "))\n",
    "\n",
    "# T Z Y X\n",
    "Z = np.array(Z).transpose(1, 0, 2, 3, 4)\n",
    "\n",
    "tifffile.imwrite(\n",
    "    \"C:/Users/tianrui/Desktop/threshold.tif\", \n",
    "    np.array(Z), imagej=True,\n",
    "    metadata={\n",
    "        \"unit\": \"nm\",\n",
    "        \"axes\": \"TZYXS\",\n",
    "    }\n",
    ")"
   ]
  }
 ],
 "metadata": {
  "kernelspec": {
   "display_name": "DL-SMLFM",
   "language": "python",
   "name": "python3"
  },
  "language_info": {
   "codemirror_mode": {
    "name": "ipython",
    "version": 3
   },
   "file_extension": ".py",
   "mimetype": "text/x-python",
   "name": "python",
   "nbconvert_exporter": "python",
   "pygments_lexer": "ipython3",
   "version": "3.11.3"
  },
  "orig_nbformat": 4
 },
 "nbformat": 4,
 "nbformat_minor": 2
}
