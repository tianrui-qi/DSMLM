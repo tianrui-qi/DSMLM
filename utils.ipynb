{
 "cells": [
  {
   "cell_type": "code",
   "execution_count": null,
   "metadata": {},
   "outputs": [],
   "source": [
    "import torch\n",
    "import torch.nn.functional as F\n",
    "from torch import Tensor\n",
    "\n",
    "import numpy as np\n",
    "import os\n",
    "import tifffile\n",
    "import scipy.io"
   ]
  },
  {
   "cell_type": "markdown",
   "metadata": {},
   "source": [
    "## For generating the traditional frame as label"
   ]
  },
  {
   "cell_type": "code",
   "execution_count": null,
   "metadata": {},
   "outputs": [],
   "source": [
    "up_sample = Tensor([4, 4, 4]).int() \n",
    "dim_label = Tensor([128, 2048, 2048]).int() \n",
    "lum_info  = False\n",
    "\n",
    "# data path\n",
    "frames_load_fold = \"D:/frames\"\n",
    "mlists_load_fold = \"D:/mlists\"\n",
    "\n",
    "# file name list\n",
    "frames_list = os.listdir(frames_load_fold)\n",
    "mlists_list = os.listdir(mlists_load_fold)\n",
    "\n",
    "result = torch.zeros(*dim_label.tolist())\n",
    "for index in range(45000):\n",
    "    # frame\n",
    "    frame = torch.from_numpy(tifffile.imread(\n",
    "        os.path.join(frames_load_fold, frames_list[index])\n",
    "    ))\n",
    "    frame = (frame / 6.5).float()\n",
    "    frame = F.interpolate(\n",
    "        frame.unsqueeze(0).unsqueeze(0), \n",
    "        size = (32, 512, 512)\n",
    "    ).squeeze(0).squeeze(0)\n",
    "    frame = torch.clip(frame, 0, 1)\n",
    "\n",
    "    frame = F.interpolate(\n",
    "        frame.unsqueeze(0).unsqueeze(0), \n",
    "        scale_factor=up_sample.tolist()\n",
    "    ).squeeze(0).squeeze(0)\n",
    "\n",
    "    # mlist\n",
    "    _, mlist = scipy.io.loadmat(\n",
    "        os.path.join(mlists_load_fold, mlists_list[index])\n",
    "    ).popitem()\n",
    "    mlist = torch.from_numpy(mlist).float()\n",
    "    mlist = mlist[:, [2, 0, 1]] - 1  # (H W D) -> (D H W)\n",
    "    mlist[:, 0] = (mlist[:, 0] + 0.5) / 2 - 0.5\n",
    "\n",
    "    mlist = (mlist + 0.5) * up_sample - 0.5\n",
    "    mlist = torch.round(mlist).int()\n",
    "\n",
    "    # label\n",
    "    label = torch.zeros(*dim_label.tolist())\n",
    "    label[tuple(mlist.t())] = 1\n",
    "    if lum_info: label *= frame\n",
    "    result += label\n",
    "\n",
    "    # save after combine 1, 2, 4, 8, 16... frames\n",
    "    current_frame = index + 1\n",
    "    if current_frame & (current_frame - 1) == 0 or index == 45000 - 1:\n",
    "        tifffile.imwrite(\n",
    "            \"{}/{:05}.tif\".format(\"temp\", current_frame),\n",
    "            result.numpy()\n",
    "        )"
   ]
  },
  {
   "cell_type": "markdown",
   "metadata": {},
   "source": [
    "## For concat threshold eval result, d_06"
   ]
  },
  {
   "cell_type": "code",
   "execution_count": null,
   "metadata": {},
   "outputs": [],
   "source": [
    "for s in [\n",
    "    \"000\",\n",
    "    \"010\", \"020\", \"030\", \"040\", \"050\", \n",
    "    \"060\", \"070\", \"080\", \"090\", \"100\",\n",
    "]:\n",
    "    # T Z Y X\n",
    "    T = []\n",
    "    for t in [\n",
    "        1, 2, 4, 8, 16, 32, 64, 128, 256, 512, \n",
    "        1024, 2048, 4096, 8192, 16384, 32768, 45000\n",
    "    ]: T.append(tifffile.imread(\n",
    "        \"data/d_06/{}/outputs_{}.tif\".format(s, t)\n",
    "    ))\n",
    "\n",
    "    # Z T Y X\n",
    "    T = np.array(T).transpose(1, 0, 2, 3)\n",
    "\n",
    "    T[T > 10.0] = 10.0\n",
    "\n",
    "    tifffile.imwrite(\n",
    "        \"C:/Users/tianrui/Desktop/{}.tif\".format(s), \n",
    "        np.array(T), imagej=True,\n",
    "        metadata={\n",
    "            \"unit\": \"nm\",\n",
    "            \"axes\": \"TZYX\",\n",
    "        }\n",
    "    )"
   ]
  },
  {
   "cell_type": "code",
   "execution_count": null,
   "metadata": {},
   "outputs": [],
   "source": [
    "# Z T Y X\n",
    "Z = []\n",
    "for s in [\n",
    "    \"000\",\n",
    "    \"010\", \"020\", \"030\", \"040\", \"050\", \n",
    "    \"060\", \"070\", \"080\", \"090\", \"100\",\n",
    "]: Z.append(tifffile.imread(\n",
    "    \"C:/Users/tianrui/Desktop/{}_h.tif\".format(s)\n",
    "))\n",
    "\n",
    "# T Z Y X\n",
    "Z = np.array(Z).transpose(1, 0, 2, 3, 4)\n",
    "\n",
    "tifffile.imwrite(\n",
    "    \"C:/Users/tianrui/Desktop/threshold.tif\", \n",
    "    np.array(Z), imagej=True,\n",
    "    metadata={\n",
    "        \"unit\": \"nm\",\n",
    "        \"axes\": \"TZYXS\",\n",
    "    }\n",
    ")"
   ]
  }
 ],
 "metadata": {
  "kernelspec": {
   "display_name": "DL-SMLFM",
   "language": "python",
   "name": "python3"
  },
  "language_info": {
   "codemirror_mode": {
    "name": "ipython",
    "version": 3
   },
   "file_extension": ".py",
   "mimetype": "text/x-python",
   "name": "python",
   "nbconvert_exporter": "python",
   "pygments_lexer": "ipython3",
   "version": "3.11.3"
  },
  "orig_nbformat": 4
 },
 "nbformat": 4,
 "nbformat_minor": 2
}
